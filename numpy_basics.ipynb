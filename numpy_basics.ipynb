{
 "cells": [
  {
   "cell_type": "code",
   "metadata": {},
   "outputs": [],
   "source": [
    "import numpy as np"
   ]
  },
  {
   "cell_type": "markdown",
   "metadata": {},
   "source": [
    "## Array Creation"
   ]
  },
  {
   "cell_type": "code",
   "execution_count": 2,
   "metadata": {},
   "outputs": [
    {
     "data": {
      "text/plain": [
       "array([10, 11, 12, 13, 14, 15, 16, 17, 18, 19, 20, 21, 22, 23, 24])"
      ]
     },
     "execution_count": 2,
     "output_type": "execute_result",
     "metadata": {}
    }
   ],
   "source": [
    "# Creating a new 1-dimensinal array (like standard range() function)\n",
    "a = np.arange(10, 25)\n",
    "a"
   ]
  },
  {
   "cell_type": "code",
   "execution_count": 3,
   "metadata": {},
   "outputs": [
    {
     "data": {
      "text/plain": [
       "numpy.ndarray"
      ]
     },
     "execution_count": 3,
     "output_type": "execute_result",
     "metadata": {}
    }
   ],
   "source": [
    "# Type is ndarray (n-dimensional array)\n",
    "type(a)"
   ]
  },
  {
   "cell_type": "code",
   "execution_count": 4,
   "metadata": {},
   "outputs": [
    {
     "data": {
      "text/plain": [
       "array([[10, 11, 12, 13, 14],\n",
       "       [15, 16, 17, 18, 19],\n",
       "       [20, 21, 22, 23, 24]])"
      ]
     },
     "execution_count": 4,
     "output_type": "execute_result",
     "metadata": {}
    }
   ],
   "source": [
    "# Change dimensionality with the reshape method\n",
    "a.reshape(3, 5)"
   ]
  },
  {
   "cell_type": "code",
   "execution_count": 5,
   "metadata": {},
   "outputs": [
    {
     "data": {
      "text/plain": [
       "array([10, 11, 12, 13, 14, 15, 16, 17, 18, 19, 20, 21, 22, 23, 24])"
      ]
     },
     "execution_count": 5,
     "output_type": "execute_result",
     "metadata": {}
    }
   ],
   "source": [
    "#Does not modify in place. 'a' is still 1-dimensional.\n",
    "a"
   ]
  },
  {
   "cell_type": "code",
   "execution_count": 6,
   "metadata": {},
   "outputs": [
    {
     "data": {
      "text/plain": [
       "array([[10, 11, 12, 13, 14],\n",
       "       [15, 16, 17, 18, 19],\n",
       "       [20, 21, 22, 23, 24]])"
      ]
     },
     "execution_count": 6,
     "output_type": "execute_result",
     "metadata": {}
    }
   ],
   "source": [
    "# Using '-1' will use whatever is required.\n",
    "a = a.reshape(3, -1)\n",
    "a"
   ]
  },
  {
   "cell_type": "code",
   "execution_count": 7,
   "metadata": {},
   "outputs": [
    {
     "data": {
      "text/plain": [
       "{'bytes per item': 8,\n",
       " 'data type': 'int64',\n",
       " 'dimensions': 2,\n",
       " 'number of items in array': 15,\n",
       " 'object type': numpy.ndarray,\n",
       " 'shape': (3, 5)}"
      ]
     },
     "execution_count": 7,
     "output_type": "execute_result",
     "metadata": {}
    }
   ],
   "source": [
    "# Array attributes\n",
    "{\n",
    "    'object type': type(a),\n",
    "    'dimensions': a.ndim,\n",
    "    'shape': a.shape,\n",
    "    'data type': a.dtype.name,\n",
    "    'bytes per item': a.itemsize,\n",
    "    'number of items in array': a.size\n",
    "}"
   ]
  },
  {
   "cell_type": "code",
   "execution_count": 8,
   "metadata": {},
   "outputs": [
    {
     "data": {
      "text/plain": [
       "[array([2, 3, 4]),\n",
       " 'int64',\n",
       " array([ 1.2,  3.5,  5.1]),\n",
       " 'float64',\n",
       " array([ 1.+0.j,  2.+0.j,  3.+0.j,  4.+0.j]),\n",
       " 'complex128']"
      ]
     },
     "execution_count": 8,
     "output_type": "execute_result",
     "metadata": {}
    }
   ],
   "source": [
    "# Creating arrays from list or tuples.\n",
    "# Data type is inferred, but can be supplied explicitly.\n",
    "a = np.array( [2, 3, 4] )\n",
    "b = np.array( [1.2, 3.5, 5.1] )\n",
    "c = np.array( [1, 2, 3, 4], dtype = complex)\n",
    "[a, a.dtype.name, b, b.dtype.name, c, c.dtype.name]"
   ]
  },
  {
   "cell_type": "code",
   "execution_count": 9,
   "metadata": {},
   "outputs": [
    {
     "data": {
      "text/plain": [
       "array([[1, 2, 3],\n",
       "       [4, 5, 6]])"
      ]
     },
     "execution_count": 9,
     "output_type": "execute_result",
     "metadata": {}
    }
   ],
   "source": [
    "# Sequences of sequences result in n-dimensional arrays\n",
    "# 2D\n",
    "a = np.array( [ (1, 2, 3), (4, 5, 6) ] )\n",
    "a"
   ]
  },
  {
   "cell_type": "code",
   "execution_count": 10,
   "metadata": {},
   "outputs": [
    {
     "data": {
      "text/plain": [
       "array([[[1, 2],\n",
       "        [3, 4]],\n",
       "\n",
       "       [[5, 6],\n",
       "        [7, 8]]])"
      ]
     },
     "execution_count": 10,
     "output_type": "execute_result",
     "metadata": {}
    }
   ],
   "source": [
    "# 3D\n",
    "b = np.array( [ ( (1,2), (3,4) ), ( (5,6), (7,8) ) ] )\n",
    "b"
   ]
  },
  {
   "cell_type": "code",
   "execution_count": 11,
   "metadata": {},
   "outputs": [
    {
     "data": {
      "text/plain": [
       "array([[ 1.,  1.,  1.],\n",
       "       [ 1.,  1.,  1.]])"
      ]
     },
     "execution_count": 11,
     "output_type": "execute_result",
     "metadata": {}
    }
   ],
   "source": [
    "# Creating placeholder arrays\n",
    "a = np.ones( (2, 3) )\n",
    "a"
   ]
  },
  {
   "cell_type": "code",
   "execution_count": 12,
   "metadata": {},
   "outputs": [
    {
     "data": {
      "text/plain": [
       "array([[ 0.,  0.,  0.],\n",
       "       [ 0.,  0.,  0.]])"
      ]
     },
     "execution_count": 12,
     "output_type": "execute_result",
     "metadata": {}
    }
   ],
   "source": [
    "b = np.zeros( (2, 3) )\n",
    "b"
   ]
  },
  {
   "cell_type": "code",
   "execution_count": 13,
   "metadata": {},
   "outputs": [
    {
     "data": {
      "text/plain": [
       "array([[ 0.,  0.,  0.],\n",
       "       [ 0.,  0.,  0.]])"
      ]
     },
     "execution_count": 13,
     "output_type": "execute_result",
     "metadata": {}
    }
   ],
   "source": [
    "c = np.empty( (2, 3) )\n",
    "c"
   ]
  },
  {
   "cell_type": "code",
   "execution_count": 14,
   "metadata": {},
   "outputs": [
    {
     "data": {
      "text/plain": [
       "{'0 to 2 by 0.3': array([ 0. ,  0.3,  0.6,  0.9,  1.2,  1.5,  1.8]),\n",
       " '0 to 2: 5 steps': array([ 0. ,  0.5,  1. ,  1.5,  2. ]),\n",
       " '10 to 30 by 5': array([10, 15, 20, 25])}"
      ]
     },
     "execution_count": 14,
     "output_type": "execute_result",
     "metadata": {}
    }
   ],
   "source": [
    "# Creating sequences\n",
    "a = np.arange(10, 30, 5)\n",
    "b = np.arange(0, 2, 0.3)\n",
    "c = np.linspace( 0, 2, 5)\n",
    "\n",
    "{\n",
    "    '10 to 30 by 5': a,\n",
    "    '0 to 2 by 0.3': b, \n",
    "    '0 to 2: 5 steps': c\n",
    "}"
   ]
  },
  {
   "cell_type": "markdown",
   "metadata": {},
   "source": [
    "## Printing"
   ]
  },
  {
   "cell_type": "code",
   "execution_count": 15,
   "metadata": {},
   "outputs": [
    {
     "data": {
      "text/plain": [
       "array([[[ 0,  1,  2,  3],\n",
       "        [ 4,  5,  6,  7],\n",
       "        [ 8,  9, 10, 11]],\n",
       "\n",
       "       [[12, 13, 14, 15],\n",
       "        [16, 17, 18, 19],\n",
       "        [20, 21, 22, 23]]])"
      ]
     },
     "execution_count": 15,
     "output_type": "execute_result",
     "metadata": {}
    }
   ],
   "source": [
    "# Last axis printed left to right\n",
    "# Second-to-last printed top to bottom\n",
    "# Remaining printed top to bottom separated by empty line\n",
    "np.arange(24).reshape(2,3,4)"
   ]
  },
  {
   "cell_type": "code",
   "execution_count": 16,
   "metadata": {},
   "outputs": [
    {
     "data": {
      "text/plain": [
       "array([[[   0,    1,    2, ...,  197,  198,  199],\n",
       "        [ 200,  201,  202, ...,  397,  398,  399],\n",
       "        [ 400,  401,  402, ...,  597,  598,  599]],\n",
       "\n",
       "       [[ 600,  601,  602, ...,  797,  798,  799],\n",
       "        [ 800,  801,  802, ...,  997,  998,  999],\n",
       "        [1000, 1001, 1002, ..., 1197, 1198, 1199]]])"
      ]
     },
     "execution_count": 16,
     "output_type": "execute_result",
     "metadata": {}
    }
   ],
   "source": [
    "# Large arrays skip printing of the central parts\n",
    "np.arange(1200).reshape(2, 3, -1)"
   ]
  },
  {
   "cell_type": "code",
   "execution_count": 17,
   "metadata": {},
   "outputs": [
    {
     "data": {
      "text/plain": [
       "array([[[   0,    1,    2],\n",
       "        [   3,    4,    5],\n",
       "        [   6,    7,    8],\n",
       "        ..., \n",
       "        [ 591,  592,  593],\n",
       "        [ 594,  595,  596],\n",
       "        [ 597,  598,  599]],\n",
       "\n",
       "       [[ 600,  601,  602],\n",
       "        [ 603,  604,  605],\n",
       "        [ 606,  607,  608],\n",
       "        ..., \n",
       "        [1191, 1192, 1193],\n",
       "        [1194, 1195, 1196],\n",
       "        [1197, 1198, 1199]]])"
      ]
     },
     "execution_count": 17,
     "output_type": "execute_result",
     "metadata": {}
    }
   ],
   "source": [
    "np.arange(1200).reshape(2, -1, 3)"
   ]
  },
  {
   "cell_type": "markdown",
   "metadata": {},
   "source": [
    "## Basic Operations"
   ]
  },
  {
   "cell_type": "code",
   "execution_count": 18,
   "metadata": {},
   "outputs": [
    {
     "data": {
      "text/plain": [
       "{'a': array([20, 30, 40, 50]),\n",
       " 'b': array([0, 1, 2, 3]),\n",
       " 'c': array([20, 29, 38, 47]),\n",
       " 'd': array([0, 1, 4, 9]),\n",
       " 'e': array([ 0.91294525, -0.98803162,  0.74511316, -0.26237485]),\n",
       " 'f': array([ True,  True, False, False], dtype=bool)}"
      ]
     },
     "execution_count": 18,
     "output_type": "execute_result",
     "metadata": {}
    }
   ],
   "source": [
    "# Arithmatic applies elementwise\n",
    "a = np.array( [20, 30, 40, 50] )\n",
    "b = np.arange(4)\n",
    "c = a-b\n",
    "d = b**2\n",
    "e = np.sin(a)\n",
    "f = a<35\n",
    "\n",
    "{\n",
    "    'a': a,\n",
    "    'b': b,\n",
    "    'c': c, \n",
    "    'd': d,\n",
    "    'e': e,\n",
    "    'f': f\n",
    "}"
   ]
  },
  {
   "cell_type": "code",
   "execution_count": 19,
   "metadata": {},
   "outputs": [],
   "source": [
    "# Multiplication operator '*' operates elementwise.\n",
    "# Matrix multiplication is done by the 'dot()' function.\n",
    "A = np.array( [[1, 1],\n",
    "               [0, 1]] )\n",
    "B = np.array( [[2, 0],\n",
    "               [3, 4]] )"
   ]
  },
  {
   "cell_type": "code",
   "execution_count": 20,
   "metadata": {},
   "outputs": [
    {
     "data": {
      "text/plain": [
       "array([[2, 0],\n",
       "       [0, 4]])"
      ]
     },
     "execution_count": 20,
     "output_type": "execute_result",
     "metadata": {}
    }
   ],
   "source": [
    "A*B"
   ]
  },
  {
   "cell_type": "code",
   "execution_count": 21,
   "metadata": {},
   "outputs": [
    {
     "data": {
      "text/plain": [
       "array([[5, 4],\n",
       "       [3, 4]])"
      ]
     },
     "execution_count": 21,
     "output_type": "execute_result",
     "metadata": {}
    }
   ],
   "source": [
    "np.dot(A, B)"
   ]
  },
  {
   "cell_type": "code",
   "execution_count": 22,
   "metadata": {},
   "outputs": [
    {
     "data": {
      "text/plain": [
       "array([[3, 3, 3],\n",
       "       [3, 3, 3]])"
      ]
     },
     "execution_count": 22,
     "output_type": "execute_result",
     "metadata": {}
    }
   ],
   "source": [
    "# In place modifications\n",
    "a = np.ones( (2, 3), dtype = int)\n",
    "b = np.random.random( (2, 3) )\n",
    "a *= 3\n",
    "a"
   ]
  },
  {
   "cell_type": "code",
   "execution_count": 23,
   "metadata": {},
   "outputs": [
    {
     "data": {
      "text/plain": [
       "array([[ 3.34719226,  3.10133904,  3.23072802],\n",
       "       [ 3.01728202,  3.63103169,  3.2445957 ]])"
      ]
     },
     "execution_count": 23,
     "output_type": "execute_result",
     "metadata": {}
    }
   ],
   "source": [
    "b += a\n",
    "b"
   ]
  },
  {
   "cell_type": "code",
   "execution_count": 24,
   "metadata": {},
   "outputs": [
    {
     "data": {
      "text/plain": [
       "array([[6, 6, 6],\n",
       "       [6, 6, 6]])"
      ]
     },
     "execution_count": 24,
     "output_type": "execute_result",
     "metadata": {}
    }
   ],
   "source": [
    "# b is converted to a's integer type, because no new array is being created.\n",
    "a += b\n",
    "a"
   ]
  },
  {
   "cell_type": "code",
   "execution_count": 25,
   "metadata": {},
   "outputs": [
    {
     "data": {
      "text/plain": [
       "{'a': array([1, 1, 1]),\n",
       " 'a-dtype': 'int64',\n",
       " 'b': array([ 0.        ,  1.57079633,  3.14159265]),\n",
       " 'b-dtype': 'float64',\n",
       " 'c': array([ 1.        ,  2.57079633,  4.14159265]),\n",
       " 'c-dtype': 'float64',\n",
       " 'd': array([ 0.54030231+0.84147098j, -0.84147098+0.54030231j,\n",
       "        -0.54030231-0.84147098j]),\n",
       " 'd-dtype': 'complex128'}"
      ]
     },
     "execution_count": 25,
     "output_type": "execute_result",
     "metadata": {}
    }
   ],
   "source": [
    "# Array operations create new arrays of the more general data type (upcasting)\n",
    "a = np.ones(3, dtype=int)\n",
    "b = np.linspace(0, np.pi, 3)\n",
    "c = a + b\n",
    "d = np.exp(c*1j)\n",
    "{\n",
    "    'a': a,\n",
    "    'b': b,\n",
    "    'c': c,\n",
    "    'd': d,\n",
    "    'a-dtype': a.dtype.name,\n",
    "    'b-dtype': b.dtype.name,\n",
    "    'c-dtype': c.dtype.name,\n",
    "    'd-dtype': d.dtype.name\n",
    "}"
   ]
  },
  {
   "cell_type": "code",
   "execution_count": 26,
   "metadata": {},
   "outputs": [
    {
     "data": {
      "text/plain": [
       "{'a': array([[ 0.44039799,  0.74969275,  0.50375616],\n",
       "        [ 0.7534239 ,  0.28734815,  0.71697109]]),\n",
       " 'max': 0.7534239025678775,\n",
       " 'mean': 0.575265007380792,\n",
       " 'min': 0.28734815317944329,\n",
       " 'std': 0.17722160544492313,\n",
       " 'sum': 3.4515900442847522}"
      ]
     },
     "execution_count": 26,
     "output_type": "execute_result",
     "metadata": {}
    }
   ],
   "source": [
    "# Unary operations implemented as ndarray methods.\n",
    "# Using the full array without regard to its dimensions.\n",
    "a = np.random.random( (2, 3) )\n",
    "{\n",
    "    'a': a,\n",
    "    'sum': a.sum(),\n",
    "    'min': a.min(),\n",
    "    'max': a.max(), \n",
    "    'std': a.std(),\n",
    "    'mean': a.mean()\n",
    "}"
   ]
  },
  {
   "cell_type": "code",
   "execution_count": 27,
   "metadata": {},
   "outputs": [
    {
     "data": {
      "text/plain": [
       "{'b': array([[ 0,  1,  2,  3],\n",
       "        [ 4,  5,  6,  7],\n",
       "        [ 8,  9, 10, 11]]),\n",
       " 'colmax': array([ 8,  9, 10, 11]),\n",
       " 'colsum': array([12, 15, 18, 21]),\n",
       " 'cumsum': array([[ 0,  1,  3,  6],\n",
       "        [ 4,  9, 15, 22],\n",
       "        [ 8, 17, 27, 38]]),\n",
       " 'rowsum': array([ 6, 22, 38])}"
      ]
     },
     "execution_count": 27,
     "output_type": "execute_result",
     "metadata": {}
    }
   ],
   "source": [
    "# Specifying the axis parameter\n",
    "b = np.arange(12).reshape(3, 4)\n",
    "{\n",
    "    'b': b,\n",
    "    'colsum': b.sum(axis = 0),\n",
    "    'rowsum': b.sum(axis = 1),\n",
    "    'colmax': b.max(axis = 0),\n",
    "    'cumsum': b.cumsum(axis = 1)\n",
    "}"
   ]
  },
  {
   "cell_type": "code",
   "execution_count": 28,
   "metadata": {},
   "outputs": [
    {
     "data": {
      "text/plain": [
       "array([[[ 0,  1,  2,  3],\n",
       "        [ 4,  5,  6,  7],\n",
       "        [ 8,  9, 10, 11]],\n",
       "\n",
       "       [[12, 13, 14, 15],\n",
       "        [16, 17, 18, 19],\n",
       "        [20, 21, 22, 23]]])"
      ]
     },
     "execution_count": 28,
     "output_type": "execute_result",
     "metadata": {}
    }
   ],
   "source": [
    "# 3D array\n",
    "c = np.arange(24).reshape(2, 3, 4)\n",
    "c"
   ]
  },
  {
   "cell_type": "code",
   "execution_count": 29,
   "metadata": {},
   "outputs": [
    {
     "data": {
      "text/plain": [
       "array([[12, 13, 14, 15],\n",
       "       [16, 17, 18, 19],\n",
       "       [20, 21, 22, 23]])"
      ]
     },
     "execution_count": 29,
     "output_type": "execute_result",
     "metadata": {}
    }
   ],
   "source": [
    "c.max(axis = 0)"
   ]
  },
  {
   "cell_type": "code",
   "execution_count": 30,
   "metadata": {},
   "outputs": [
    {
     "data": {
      "text/plain": [
       "array([[12, 15, 18, 21],\n",
       "       [48, 51, 54, 57]])"
      ]
     },
     "execution_count": 30,
     "output_type": "execute_result",
     "metadata": {}
    }
   ],
   "source": [
    "c.sum(axis = 1)"
   ]
  },
  {
   "cell_type": "code",
   "execution_count": 31,
   "metadata": {},
   "outputs": [
    {
     "data": {
      "text/plain": [
       "array([[ 0,  4,  8],\n",
       "       [12, 16, 20]])"
      ]
     },
     "execution_count": 31,
     "output_type": "execute_result",
     "metadata": {}
    }
   ],
   "source": [
    "c.min(axis = 2)"
   ]
  },
  {
   "cell_type": "markdown",
   "metadata": {},
   "source": [
    "## Universal Functions"
   ]
  },
  {
   "cell_type": "code",
   "execution_count": 38,
   "metadata": {},
   "outputs": [
    {
     "data": {
      "text/plain": [
       "{'B': array([0, 1, 2]),\n",
       " 'C': array([ 2., -1.,  4.]),\n",
       " 'add': array([ 2.,  0.,  6.]),\n",
       " 'exp': array([ 1.        ,  2.71828183,  7.3890561 ]),\n",
       " 'sqrt': array([ 0.        ,  1.        ,  1.41421356])}"
      ]
     },
     "execution_count": 38,
     "output_type": "execute_result",
     "metadata": {}
    }
   ],
   "source": [
    "# Universal functions (ufunc) like sin, con, and exp operate elementwise.\n",
    "B = np.arange(3)\n",
    "C = np.array( [2., -1., 4.] )\n",
    "{\n",
    "    'B': B,\n",
    "    'C': C,\n",
    "    'exp': np.exp(B),\n",
    "    'sqrt': np.sqrt(B),\n",
    "    'add': np.add(B, C)\n",
    "}"
   ]
  },
  {
   "cell_type": "markdown",
   "metadata": {},
   "source": [
    "## Indexing and Slicing"
   ]
  },
  {
   "cell_type": "markdown",
   "metadata": {},
   "source": [
    "One-Dimensional Arrays"
   ]
  },
  {
   "cell_type": "code",
   "execution_count": 50,
   "metadata": {},
   "outputs": [
    {
     "data": {
      "text/plain": [
       "{'1. a': array([  0,   1,   8,  27,  64, 125, 216, 343, 512, 729]),\n",
       " '2. a[2]': 8,\n",
       " '3. a[2:5]': array([ 8, 27, 64])}"
      ]
     },
     "execution_count": 50,
     "output_type": "execute_result",
     "metadata": {}
    }
   ],
   "source": [
    "# One-dimensional arrays can be indexed, sliced and iterated over normally.\n",
    "a = np.arange(10)**3\n",
    "{\n",
    "    '1. a': a,\n",
    "    '2. a[2]': a[2],\n",
    "    '3. a[2:5]': a[2:5],\n",
    "}"
   ]
  },
  {
   "cell_type": "code",
   "execution_count": 51,
   "metadata": {},
   "outputs": [
    {
     "data": {
      "text/plain": [
       "array([729, 512, 343, 216, 125,  64,  27,   8,   1,   0])"
      ]
     },
     "execution_count": 51,
     "output_type": "execute_result",
     "metadata": {}
    }
   ],
   "source": [
    "# Reversed\n",
    "a[::-1]"
   ]
  },
  {
   "cell_type": "code",
   "metadata": {},
   "outputs": [],
   "source": [
    "# Set every second element\n",
    "a[::2] = -1000\n",
    "a"
   ]
  },
  {
   "cell_type": "code",
   "execution_count": 54,
   "metadata": {},
   "outputs": [
    {
     "name": "stdout",
     "output_type": "stream",
     "text": [
      "1000000\n",
      "1\n",
      "1000000\n",
      "729\n",
      "1000000\n",
      "15625\n",
      "1000000\n",
      "117649\n",
      "1000000\n",
      "531441\n"
     ]
    }
   ],
   "source": [
    "for i in a:\n",
    "    print(i**2)"
   ]
  },
  {
   "cell_type": "markdown",
   "metadata": {},
   "source": [
    "Multi-Dimensional Arrays"
   ]
  },
  {
   "cell_type": "code",
   "metadata": {},
   "outputs": [],
   "source": [
    ""
   ]
  }
 ],
 "metadata": {
  "kernelspec": {
   "display_name": "Python 3",
   "language": "python",
   "name": "python3"
  },
  "language_info": {
   "codemirror_mode": {
    "name": "ipython",
    "version": 3.0
   },
   "file_extension": ".py",
   "mimetype": "text/x-python",
   "name": "python",
   "nbconvert_exporter": "python",
   "pygments_lexer": "ipython3",
   "version": "3.4.2"
  }
 },
 "nbformat": 4,
 "nbformat_minor": 0
}