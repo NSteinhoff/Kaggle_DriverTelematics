{
 "metadata": {
  "name": "",
  "signature": "sha256:80320b60447350fcf8c3401034f566cf698cc00e3d9a5ad9341933f3a263053b"
 },
 "nbformat": 3,
 "nbformat_minor": 0,
 "worksheets": [
  {
   "cells": [
    {
     "cell_type": "code",
     "collapsed": false,
     "input": [
      "import pandas as pd\n",
      "import numpy as np\n",
      "import matplotlib.pyplot as plt"
     ],
     "language": "python",
     "metadata": {},
     "outputs": [],
     "prompt_number": 2
    },
    {
     "cell_type": "code",
     "collapsed": false,
     "input": [
      "s = pd.Series([1, 3, 5, np.nan, 6, 8])\n",
      "s"
     ],
     "language": "python",
     "metadata": {},
     "outputs": [
      {
       "metadata": {},
       "output_type": "pyout",
       "prompt_number": 3,
       "text": [
        "0     1\n",
        "1     3\n",
        "2     5\n",
        "3   NaN\n",
        "4     6\n",
        "5     8\n",
        "dtype: float64"
       ]
      }
     ],
     "prompt_number": 3
    },
    {
     "cell_type": "code",
     "collapsed": false,
     "input": [
      "type(s)"
     ],
     "language": "python",
     "metadata": {},
     "outputs": [
      {
       "metadata": {},
       "output_type": "pyout",
       "prompt_number": 4,
       "text": [
        "pandas.core.series.Series"
       ]
      }
     ],
     "prompt_number": 4
    },
    {
     "cell_type": "markdown",
     "metadata": {},
     "source": [
      "Creating a DataFrame by passing a numpy array, with a datetime index and labeled columns"
     ]
    },
    {
     "cell_type": "code",
     "collapsed": false,
     "input": [
      "dates = pd.date_range('20130101', periods=6)\n",
      "dates"
     ],
     "language": "python",
     "metadata": {},
     "outputs": [
      {
       "metadata": {},
       "output_type": "pyout",
       "prompt_number": 5,
       "text": [
        "<class 'pandas.tseries.index.DatetimeIndex'>\n",
        "[2013-01-01, ..., 2013-01-06]\n",
        "Length: 6, Freq: D, Timezone: None"
       ]
      }
     ],
     "prompt_number": 5
    },
    {
     "cell_type": "code",
     "collapsed": false,
     "input": [
      "df = pd.DataFrame(np.random.randn(6, 4), index=dates, columns=list('ABCD'))\n",
      "df"
     ],
     "language": "python",
     "metadata": {},
     "outputs": [
      {
       "html": [
        "<div style=\"max-height:1000px;max-width:1500px;overflow:auto;\">\n",
        "<table border=\"1\" class=\"dataframe\">\n",
        "  <thead>\n",
        "    <tr style=\"text-align: right;\">\n",
        "      <th></th>\n",
        "      <th>A</th>\n",
        "      <th>B</th>\n",
        "      <th>C</th>\n",
        "      <th>D</th>\n",
        "    </tr>\n",
        "  </thead>\n",
        "  <tbody>\n",
        "    <tr>\n",
        "      <th>2013-01-01</th>\n",
        "      <td> 0.599473</td>\n",
        "      <td>-0.356687</td>\n",
        "      <td>-1.274829</td>\n",
        "      <td> 0.551027</td>\n",
        "    </tr>\n",
        "    <tr>\n",
        "      <th>2013-01-02</th>\n",
        "      <td> 1.223142</td>\n",
        "      <td>-0.093306</td>\n",
        "      <td> 0.426288</td>\n",
        "      <td> 1.850803</td>\n",
        "    </tr>\n",
        "    <tr>\n",
        "      <th>2013-01-03</th>\n",
        "      <td>-0.246529</td>\n",
        "      <td> 1.722214</td>\n",
        "      <td> 0.056863</td>\n",
        "      <td>-1.174623</td>\n",
        "    </tr>\n",
        "    <tr>\n",
        "      <th>2013-01-04</th>\n",
        "      <td>-0.736053</td>\n",
        "      <td>-0.902892</td>\n",
        "      <td> 1.818953</td>\n",
        "      <td> 1.410067</td>\n",
        "    </tr>\n",
        "    <tr>\n",
        "      <th>2013-01-05</th>\n",
        "      <td>-2.126120</td>\n",
        "      <td>-0.296749</td>\n",
        "      <td>-1.253166</td>\n",
        "      <td>-0.021765</td>\n",
        "    </tr>\n",
        "    <tr>\n",
        "      <th>2013-01-06</th>\n",
        "      <td> 0.800072</td>\n",
        "      <td>-0.232568</td>\n",
        "      <td> 1.490490</td>\n",
        "      <td> 0.035192</td>\n",
        "    </tr>\n",
        "  </tbody>\n",
        "</table>\n",
        "</div>"
       ],
       "metadata": {},
       "output_type": "pyout",
       "prompt_number": 6,
       "text": [
        "                   A         B         C         D\n",
        "2013-01-01  0.599473 -0.356687 -1.274829  0.551027\n",
        "2013-01-02  1.223142 -0.093306  0.426288  1.850803\n",
        "2013-01-03 -0.246529  1.722214  0.056863 -1.174623\n",
        "2013-01-04 -0.736053 -0.902892  1.818953  1.410067\n",
        "2013-01-05 -2.126120 -0.296749 -1.253166 -0.021765\n",
        "2013-01-06  0.800072 -0.232568  1.490490  0.035192"
       ]
      }
     ],
     "prompt_number": 6
    },
    {
     "cell_type": "code",
     "collapsed": false,
     "input": [
      "df2 = pd.DataFrame({'A': 1.,\n",
      "                    'B': pd.Timestamp('20130102'),\n",
      "                    'C': pd.Series(1, index=list(range(4)), dtype='float32'),\n",
      "                    'D': np.array([3]*4, dtype='int32'),\n",
      "                    'E': pd.Categorical([\"test\", \"train\", \"test\", \"train\"]),\n",
      "                    'F': 'foo'})\n",
      "df2"
     ],
     "language": "python",
     "metadata": {},
     "outputs": [
      {
       "html": [
        "<div style=\"max-height:1000px;max-width:1500px;overflow:auto;\">\n",
        "<table border=\"1\" class=\"dataframe\">\n",
        "  <thead>\n",
        "    <tr style=\"text-align: right;\">\n",
        "      <th></th>\n",
        "      <th>A</th>\n",
        "      <th>B</th>\n",
        "      <th>C</th>\n",
        "      <th>D</th>\n",
        "      <th>E</th>\n",
        "      <th>F</th>\n",
        "    </tr>\n",
        "  </thead>\n",
        "  <tbody>\n",
        "    <tr>\n",
        "      <th>0</th>\n",
        "      <td> 1</td>\n",
        "      <td>2013-01-02</td>\n",
        "      <td> 1</td>\n",
        "      <td> 3</td>\n",
        "      <td>  test</td>\n",
        "      <td> foo</td>\n",
        "    </tr>\n",
        "    <tr>\n",
        "      <th>1</th>\n",
        "      <td> 1</td>\n",
        "      <td>2013-01-02</td>\n",
        "      <td> 1</td>\n",
        "      <td> 3</td>\n",
        "      <td> train</td>\n",
        "      <td> foo</td>\n",
        "    </tr>\n",
        "    <tr>\n",
        "      <th>2</th>\n",
        "      <td> 1</td>\n",
        "      <td>2013-01-02</td>\n",
        "      <td> 1</td>\n",
        "      <td> 3</td>\n",
        "      <td>  test</td>\n",
        "      <td> foo</td>\n",
        "    </tr>\n",
        "    <tr>\n",
        "      <th>3</th>\n",
        "      <td> 1</td>\n",
        "      <td>2013-01-02</td>\n",
        "      <td> 1</td>\n",
        "      <td> 3</td>\n",
        "      <td> train</td>\n",
        "      <td> foo</td>\n",
        "    </tr>\n",
        "  </tbody>\n",
        "</table>\n",
        "</div>"
       ],
       "metadata": {},
       "output_type": "pyout",
       "prompt_number": 7,
       "text": [
        "   A          B  C  D      E    F\n",
        "0  1 2013-01-02  1  3   test  foo\n",
        "1  1 2013-01-02  1  3  train  foo\n",
        "2  1 2013-01-02  1  3   test  foo\n",
        "3  1 2013-01-02  1  3  train  foo"
       ]
      }
     ],
     "prompt_number": 7
    },
    {
     "cell_type": "code",
     "collapsed": false,
     "input": [
      "df2.dtypes"
     ],
     "language": "python",
     "metadata": {},
     "outputs": [
      {
       "metadata": {},
       "output_type": "pyout",
       "prompt_number": 8,
       "text": [
        "A           float64\n",
        "B    datetime64[ns]\n",
        "C           float32\n",
        "D             int32\n",
        "E          category\n",
        "F            object\n",
        "dtype: object"
       ]
      }
     ],
     "prompt_number": 8
    },
    {
     "cell_type": "code",
     "collapsed": false,
     "input": [
      "df.head()"
     ],
     "language": "python",
     "metadata": {},
     "outputs": [
      {
       "html": [
        "<div style=\"max-height:1000px;max-width:1500px;overflow:auto;\">\n",
        "<table border=\"1\" class=\"dataframe\">\n",
        "  <thead>\n",
        "    <tr style=\"text-align: right;\">\n",
        "      <th></th>\n",
        "      <th>A</th>\n",
        "      <th>B</th>\n",
        "      <th>C</th>\n",
        "      <th>D</th>\n",
        "    </tr>\n",
        "  </thead>\n",
        "  <tbody>\n",
        "    <tr>\n",
        "      <th>2013-01-01</th>\n",
        "      <td> 0.599473</td>\n",
        "      <td>-0.356687</td>\n",
        "      <td>-1.274829</td>\n",
        "      <td> 0.551027</td>\n",
        "    </tr>\n",
        "    <tr>\n",
        "      <th>2013-01-02</th>\n",
        "      <td> 1.223142</td>\n",
        "      <td>-0.093306</td>\n",
        "      <td> 0.426288</td>\n",
        "      <td> 1.850803</td>\n",
        "    </tr>\n",
        "    <tr>\n",
        "      <th>2013-01-03</th>\n",
        "      <td>-0.246529</td>\n",
        "      <td> 1.722214</td>\n",
        "      <td> 0.056863</td>\n",
        "      <td>-1.174623</td>\n",
        "    </tr>\n",
        "    <tr>\n",
        "      <th>2013-01-04</th>\n",
        "      <td>-0.736053</td>\n",
        "      <td>-0.902892</td>\n",
        "      <td> 1.818953</td>\n",
        "      <td> 1.410067</td>\n",
        "    </tr>\n",
        "    <tr>\n",
        "      <th>2013-01-05</th>\n",
        "      <td>-2.126120</td>\n",
        "      <td>-0.296749</td>\n",
        "      <td>-1.253166</td>\n",
        "      <td>-0.021765</td>\n",
        "    </tr>\n",
        "  </tbody>\n",
        "</table>\n",
        "</div>"
       ],
       "metadata": {},
       "output_type": "pyout",
       "prompt_number": 9,
       "text": [
        "                   A         B         C         D\n",
        "2013-01-01  0.599473 -0.356687 -1.274829  0.551027\n",
        "2013-01-02  1.223142 -0.093306  0.426288  1.850803\n",
        "2013-01-03 -0.246529  1.722214  0.056863 -1.174623\n",
        "2013-01-04 -0.736053 -0.902892  1.818953  1.410067\n",
        "2013-01-05 -2.126120 -0.296749 -1.253166 -0.021765"
       ]
      }
     ],
     "prompt_number": 9
    },
    {
     "cell_type": "code",
     "collapsed": false,
     "input": [
      "df.tail(3)"
     ],
     "language": "python",
     "metadata": {},
     "outputs": [
      {
       "html": [
        "<div style=\"max-height:1000px;max-width:1500px;overflow:auto;\">\n",
        "<table border=\"1\" class=\"dataframe\">\n",
        "  <thead>\n",
        "    <tr style=\"text-align: right;\">\n",
        "      <th></th>\n",
        "      <th>A</th>\n",
        "      <th>B</th>\n",
        "      <th>C</th>\n",
        "      <th>D</th>\n",
        "    </tr>\n",
        "  </thead>\n",
        "  <tbody>\n",
        "    <tr>\n",
        "      <th>2013-01-04</th>\n",
        "      <td>-0.736053</td>\n",
        "      <td>-0.902892</td>\n",
        "      <td> 1.818953</td>\n",
        "      <td> 1.410067</td>\n",
        "    </tr>\n",
        "    <tr>\n",
        "      <th>2013-01-05</th>\n",
        "      <td>-2.126120</td>\n",
        "      <td>-0.296749</td>\n",
        "      <td>-1.253166</td>\n",
        "      <td>-0.021765</td>\n",
        "    </tr>\n",
        "    <tr>\n",
        "      <th>2013-01-06</th>\n",
        "      <td> 0.800072</td>\n",
        "      <td>-0.232568</td>\n",
        "      <td> 1.490490</td>\n",
        "      <td> 0.035192</td>\n",
        "    </tr>\n",
        "  </tbody>\n",
        "</table>\n",
        "</div>"
       ],
       "metadata": {},
       "output_type": "pyout",
       "prompt_number": 10,
       "text": [
        "                   A         B         C         D\n",
        "2013-01-04 -0.736053 -0.902892  1.818953  1.410067\n",
        "2013-01-05 -2.126120 -0.296749 -1.253166 -0.021765\n",
        "2013-01-06  0.800072 -0.232568  1.490490  0.035192"
       ]
      }
     ],
     "prompt_number": 10
    },
    {
     "cell_type": "code",
     "collapsed": false,
     "input": [
      "df.index"
     ],
     "language": "python",
     "metadata": {},
     "outputs": [
      {
       "metadata": {},
       "output_type": "pyout",
       "prompt_number": 11,
       "text": [
        "<class 'pandas.tseries.index.DatetimeIndex'>\n",
        "[2013-01-01, ..., 2013-01-06]\n",
        "Length: 6, Freq: D, Timezone: None"
       ]
      }
     ],
     "prompt_number": 11
    },
    {
     "cell_type": "code",
     "collapsed": false,
     "input": [
      "df2.index"
     ],
     "language": "python",
     "metadata": {},
     "outputs": [
      {
       "metadata": {},
       "output_type": "pyout",
       "prompt_number": 12,
       "text": [
        "Int64Index([0, 1, 2, 3], dtype='int64')"
       ]
      }
     ],
     "prompt_number": 12
    },
    {
     "cell_type": "code",
     "collapsed": false,
     "input": [
      "df.columns"
     ],
     "language": "python",
     "metadata": {},
     "outputs": [
      {
       "metadata": {},
       "output_type": "pyout",
       "prompt_number": 13,
       "text": [
        "Index(['A', 'B', 'C', 'D'], dtype='object')"
       ]
      }
     ],
     "prompt_number": 13
    },
    {
     "cell_type": "code",
     "collapsed": false,
     "input": [
      "df2.columns"
     ],
     "language": "python",
     "metadata": {},
     "outputs": [
      {
       "metadata": {},
       "output_type": "pyout",
       "prompt_number": 14,
       "text": [
        "Index(['A', 'B', 'C', 'D', 'E', 'F'], dtype='object')"
       ]
      }
     ],
     "prompt_number": 14
    },
    {
     "cell_type": "code",
     "collapsed": false,
     "input": [
      "df.values"
     ],
     "language": "python",
     "metadata": {},
     "outputs": [
      {
       "metadata": {},
       "output_type": "pyout",
       "prompt_number": 15,
       "text": [
        "array([[ 0.59947275, -0.35668749, -1.27482949,  0.55102739],\n",
        "       [ 1.22314249, -0.09330643,  0.42628813,  1.85080298],\n",
        "       [-0.24652851,  1.72221404,  0.05686321, -1.17462265],\n",
        "       [-0.73605279, -0.90289216,  1.81895343,  1.41006658],\n",
        "       [-2.12611953, -0.29674888, -1.25316647, -0.02176542],\n",
        "       [ 0.80007166, -0.23256803,  1.49048956,  0.03519178]])"
       ]
      }
     ],
     "prompt_number": 15
    },
    {
     "cell_type": "code",
     "collapsed": false,
     "input": [
      "type(df.values)"
     ],
     "language": "python",
     "metadata": {},
     "outputs": [
      {
       "metadata": {},
       "output_type": "pyout",
       "prompt_number": 16,
       "text": [
        "numpy.ndarray"
       ]
      }
     ],
     "prompt_number": 16
    },
    {
     "cell_type": "code",
     "collapsed": false,
     "input": [
      "df.shape"
     ],
     "language": "python",
     "metadata": {},
     "outputs": [
      {
       "metadata": {},
       "output_type": "pyout",
       "prompt_number": 17,
       "text": [
        "(6, 4)"
       ]
      }
     ],
     "prompt_number": 17
    },
    {
     "cell_type": "code",
     "collapsed": false,
     "input": [
      "df.describe()"
     ],
     "language": "python",
     "metadata": {},
     "outputs": [
      {
       "html": [
        "<div style=\"max-height:1000px;max-width:1500px;overflow:auto;\">\n",
        "<table border=\"1\" class=\"dataframe\">\n",
        "  <thead>\n",
        "    <tr style=\"text-align: right;\">\n",
        "      <th></th>\n",
        "      <th>A</th>\n",
        "      <th>B</th>\n",
        "      <th>C</th>\n",
        "      <th>D</th>\n",
        "    </tr>\n",
        "  </thead>\n",
        "  <tbody>\n",
        "    <tr>\n",
        "      <th>count</th>\n",
        "      <td> 6.000000</td>\n",
        "      <td> 6.000000</td>\n",
        "      <td> 6.000000</td>\n",
        "      <td> 6.000000</td>\n",
        "    </tr>\n",
        "    <tr>\n",
        "      <th>mean</th>\n",
        "      <td>-0.081002</td>\n",
        "      <td>-0.026665</td>\n",
        "      <td> 0.210766</td>\n",
        "      <td> 0.441783</td>\n",
        "    </tr>\n",
        "    <tr>\n",
        "      <th>std</th>\n",
        "      <td> 1.231189</td>\n",
        "      <td> 0.900561</td>\n",
        "      <td> 1.314853</td>\n",
        "      <td> 1.088835</td>\n",
        "    </tr>\n",
        "    <tr>\n",
        "      <th>min</th>\n",
        "      <td>-2.126120</td>\n",
        "      <td>-0.902892</td>\n",
        "      <td>-1.274829</td>\n",
        "      <td>-1.174623</td>\n",
        "    </tr>\n",
        "    <tr>\n",
        "      <th>25%</th>\n",
        "      <td>-0.613672</td>\n",
        "      <td>-0.341703</td>\n",
        "      <td>-0.925659</td>\n",
        "      <td>-0.007526</td>\n",
        "    </tr>\n",
        "    <tr>\n",
        "      <th>50%</th>\n",
        "      <td> 0.176472</td>\n",
        "      <td>-0.264658</td>\n",
        "      <td> 0.241576</td>\n",
        "      <td> 0.293110</td>\n",
        "    </tr>\n",
        "    <tr>\n",
        "      <th>75%</th>\n",
        "      <td> 0.749922</td>\n",
        "      <td>-0.128122</td>\n",
        "      <td> 1.224439</td>\n",
        "      <td> 1.195307</td>\n",
        "    </tr>\n",
        "    <tr>\n",
        "      <th>max</th>\n",
        "      <td> 1.223142</td>\n",
        "      <td> 1.722214</td>\n",
        "      <td> 1.818953</td>\n",
        "      <td> 1.850803</td>\n",
        "    </tr>\n",
        "  </tbody>\n",
        "</table>\n",
        "</div>"
       ],
       "metadata": {},
       "output_type": "pyout",
       "prompt_number": 18,
       "text": [
        "              A         B         C         D\n",
        "count  6.000000  6.000000  6.000000  6.000000\n",
        "mean  -0.081002 -0.026665  0.210766  0.441783\n",
        "std    1.231189  0.900561  1.314853  1.088835\n",
        "min   -2.126120 -0.902892 -1.274829 -1.174623\n",
        "25%   -0.613672 -0.341703 -0.925659 -0.007526\n",
        "50%    0.176472 -0.264658  0.241576  0.293110\n",
        "75%    0.749922 -0.128122  1.224439  1.195307\n",
        "max    1.223142  1.722214  1.818953  1.850803"
       ]
      }
     ],
     "prompt_number": 18
    },
    {
     "cell_type": "code",
     "collapsed": false,
     "input": [
      "df.T"
     ],
     "language": "python",
     "metadata": {},
     "outputs": [
      {
       "html": [
        "<div style=\"max-height:1000px;max-width:1500px;overflow:auto;\">\n",
        "<table border=\"1\" class=\"dataframe\">\n",
        "  <thead>\n",
        "    <tr style=\"text-align: right;\">\n",
        "      <th></th>\n",
        "      <th>2013-01-01 00:00:00</th>\n",
        "      <th>2013-01-02 00:00:00</th>\n",
        "      <th>2013-01-03 00:00:00</th>\n",
        "      <th>2013-01-04 00:00:00</th>\n",
        "      <th>2013-01-05 00:00:00</th>\n",
        "      <th>2013-01-06 00:00:00</th>\n",
        "    </tr>\n",
        "  </thead>\n",
        "  <tbody>\n",
        "    <tr>\n",
        "      <th>A</th>\n",
        "      <td> 0.599473</td>\n",
        "      <td> 1.223142</td>\n",
        "      <td>-0.246529</td>\n",
        "      <td>-0.736053</td>\n",
        "      <td>-2.126120</td>\n",
        "      <td> 0.800072</td>\n",
        "    </tr>\n",
        "    <tr>\n",
        "      <th>B</th>\n",
        "      <td>-0.356687</td>\n",
        "      <td>-0.093306</td>\n",
        "      <td> 1.722214</td>\n",
        "      <td>-0.902892</td>\n",
        "      <td>-0.296749</td>\n",
        "      <td>-0.232568</td>\n",
        "    </tr>\n",
        "    <tr>\n",
        "      <th>C</th>\n",
        "      <td>-1.274829</td>\n",
        "      <td> 0.426288</td>\n",
        "      <td> 0.056863</td>\n",
        "      <td> 1.818953</td>\n",
        "      <td>-1.253166</td>\n",
        "      <td> 1.490490</td>\n",
        "    </tr>\n",
        "    <tr>\n",
        "      <th>D</th>\n",
        "      <td> 0.551027</td>\n",
        "      <td> 1.850803</td>\n",
        "      <td>-1.174623</td>\n",
        "      <td> 1.410067</td>\n",
        "      <td>-0.021765</td>\n",
        "      <td> 0.035192</td>\n",
        "    </tr>\n",
        "  </tbody>\n",
        "</table>\n",
        "</div>"
       ],
       "metadata": {},
       "output_type": "pyout",
       "prompt_number": 19,
       "text": [
        "   2013-01-01  2013-01-02  2013-01-03  2013-01-04  2013-01-05  2013-01-06\n",
        "A    0.599473    1.223142   -0.246529   -0.736053   -2.126120    0.800072\n",
        "B   -0.356687   -0.093306    1.722214   -0.902892   -0.296749   -0.232568\n",
        "C   -1.274829    0.426288    0.056863    1.818953   -1.253166    1.490490\n",
        "D    0.551027    1.850803   -1.174623    1.410067   -0.021765    0.035192"
       ]
      }
     ],
     "prompt_number": 19
    },
    {
     "cell_type": "code",
     "collapsed": false,
     "input": [
      "df.sort_index(axis=1, ascending = False)"
     ],
     "language": "python",
     "metadata": {},
     "outputs": [
      {
       "html": [
        "<div style=\"max-height:1000px;max-width:1500px;overflow:auto;\">\n",
        "<table border=\"1\" class=\"dataframe\">\n",
        "  <thead>\n",
        "    <tr style=\"text-align: right;\">\n",
        "      <th></th>\n",
        "      <th>D</th>\n",
        "      <th>C</th>\n",
        "      <th>B</th>\n",
        "      <th>A</th>\n",
        "    </tr>\n",
        "  </thead>\n",
        "  <tbody>\n",
        "    <tr>\n",
        "      <th>2013-01-01</th>\n",
        "      <td> 0.551027</td>\n",
        "      <td>-1.274829</td>\n",
        "      <td>-0.356687</td>\n",
        "      <td> 0.599473</td>\n",
        "    </tr>\n",
        "    <tr>\n",
        "      <th>2013-01-02</th>\n",
        "      <td> 1.850803</td>\n",
        "      <td> 0.426288</td>\n",
        "      <td>-0.093306</td>\n",
        "      <td> 1.223142</td>\n",
        "    </tr>\n",
        "    <tr>\n",
        "      <th>2013-01-03</th>\n",
        "      <td>-1.174623</td>\n",
        "      <td> 0.056863</td>\n",
        "      <td> 1.722214</td>\n",
        "      <td>-0.246529</td>\n",
        "    </tr>\n",
        "    <tr>\n",
        "      <th>2013-01-04</th>\n",
        "      <td> 1.410067</td>\n",
        "      <td> 1.818953</td>\n",
        "      <td>-0.902892</td>\n",
        "      <td>-0.736053</td>\n",
        "    </tr>\n",
        "    <tr>\n",
        "      <th>2013-01-05</th>\n",
        "      <td>-0.021765</td>\n",
        "      <td>-1.253166</td>\n",
        "      <td>-0.296749</td>\n",
        "      <td>-2.126120</td>\n",
        "    </tr>\n",
        "    <tr>\n",
        "      <th>2013-01-06</th>\n",
        "      <td> 0.035192</td>\n",
        "      <td> 1.490490</td>\n",
        "      <td>-0.232568</td>\n",
        "      <td> 0.800072</td>\n",
        "    </tr>\n",
        "  </tbody>\n",
        "</table>\n",
        "</div>"
       ],
       "metadata": {},
       "output_type": "pyout",
       "prompt_number": 20,
       "text": [
        "                   D         C         B         A\n",
        "2013-01-01  0.551027 -1.274829 -0.356687  0.599473\n",
        "2013-01-02  1.850803  0.426288 -0.093306  1.223142\n",
        "2013-01-03 -1.174623  0.056863  1.722214 -0.246529\n",
        "2013-01-04  1.410067  1.818953 -0.902892 -0.736053\n",
        "2013-01-05 -0.021765 -1.253166 -0.296749 -2.126120\n",
        "2013-01-06  0.035192  1.490490 -0.232568  0.800072"
       ]
      }
     ],
     "prompt_number": 20
    },
    {
     "cell_type": "code",
     "collapsed": false,
     "input": [
      "df.sort(columns='A')"
     ],
     "language": "python",
     "metadata": {},
     "outputs": [
      {
       "html": [
        "<div style=\"max-height:1000px;max-width:1500px;overflow:auto;\">\n",
        "<table border=\"1\" class=\"dataframe\">\n",
        "  <thead>\n",
        "    <tr style=\"text-align: right;\">\n",
        "      <th></th>\n",
        "      <th>A</th>\n",
        "      <th>B</th>\n",
        "      <th>C</th>\n",
        "      <th>D</th>\n",
        "    </tr>\n",
        "  </thead>\n",
        "  <tbody>\n",
        "    <tr>\n",
        "      <th>2013-01-05</th>\n",
        "      <td>-2.126120</td>\n",
        "      <td>-0.296749</td>\n",
        "      <td>-1.253166</td>\n",
        "      <td>-0.021765</td>\n",
        "    </tr>\n",
        "    <tr>\n",
        "      <th>2013-01-04</th>\n",
        "      <td>-0.736053</td>\n",
        "      <td>-0.902892</td>\n",
        "      <td> 1.818953</td>\n",
        "      <td> 1.410067</td>\n",
        "    </tr>\n",
        "    <tr>\n",
        "      <th>2013-01-03</th>\n",
        "      <td>-0.246529</td>\n",
        "      <td> 1.722214</td>\n",
        "      <td> 0.056863</td>\n",
        "      <td>-1.174623</td>\n",
        "    </tr>\n",
        "    <tr>\n",
        "      <th>2013-01-01</th>\n",
        "      <td> 0.599473</td>\n",
        "      <td>-0.356687</td>\n",
        "      <td>-1.274829</td>\n",
        "      <td> 0.551027</td>\n",
        "    </tr>\n",
        "    <tr>\n",
        "      <th>2013-01-06</th>\n",
        "      <td> 0.800072</td>\n",
        "      <td>-0.232568</td>\n",
        "      <td> 1.490490</td>\n",
        "      <td> 0.035192</td>\n",
        "    </tr>\n",
        "    <tr>\n",
        "      <th>2013-01-02</th>\n",
        "      <td> 1.223142</td>\n",
        "      <td>-0.093306</td>\n",
        "      <td> 0.426288</td>\n",
        "      <td> 1.850803</td>\n",
        "    </tr>\n",
        "  </tbody>\n",
        "</table>\n",
        "</div>"
       ],
       "metadata": {},
       "output_type": "pyout",
       "prompt_number": 21,
       "text": [
        "                   A         B         C         D\n",
        "2013-01-05 -2.126120 -0.296749 -1.253166 -0.021765\n",
        "2013-01-04 -0.736053 -0.902892  1.818953  1.410067\n",
        "2013-01-03 -0.246529  1.722214  0.056863 -1.174623\n",
        "2013-01-01  0.599473 -0.356687 -1.274829  0.551027\n",
        "2013-01-06  0.800072 -0.232568  1.490490  0.035192\n",
        "2013-01-02  1.223142 -0.093306  0.426288  1.850803"
       ]
      }
     ],
     "prompt_number": 21
    },
    {
     "cell_type": "code",
     "collapsed": false,
     "input": [
      "df['A']"
     ],
     "language": "python",
     "metadata": {},
     "outputs": [
      {
       "metadata": {},
       "output_type": "pyout",
       "prompt_number": 22,
       "text": [
        "2013-01-01    0.599473\n",
        "2013-01-02    1.223142\n",
        "2013-01-03   -0.246529\n",
        "2013-01-04   -0.736053\n",
        "2013-01-05   -2.126120\n",
        "2013-01-06    0.800072\n",
        "Freq: D, Name: A, dtype: float64"
       ]
      }
     ],
     "prompt_number": 22
    },
    {
     "cell_type": "code",
     "collapsed": false,
     "input": [
      "df[0:3]"
     ],
     "language": "python",
     "metadata": {},
     "outputs": [
      {
       "html": [
        "<div style=\"max-height:1000px;max-width:1500px;overflow:auto;\">\n",
        "<table border=\"1\" class=\"dataframe\">\n",
        "  <thead>\n",
        "    <tr style=\"text-align: right;\">\n",
        "      <th></th>\n",
        "      <th>A</th>\n",
        "      <th>B</th>\n",
        "      <th>C</th>\n",
        "      <th>D</th>\n",
        "    </tr>\n",
        "  </thead>\n",
        "  <tbody>\n",
        "    <tr>\n",
        "      <th>2013-01-01</th>\n",
        "      <td> 0.599473</td>\n",
        "      <td>-0.356687</td>\n",
        "      <td>-1.274829</td>\n",
        "      <td> 0.551027</td>\n",
        "    </tr>\n",
        "    <tr>\n",
        "      <th>2013-01-02</th>\n",
        "      <td> 1.223142</td>\n",
        "      <td>-0.093306</td>\n",
        "      <td> 0.426288</td>\n",
        "      <td> 1.850803</td>\n",
        "    </tr>\n",
        "    <tr>\n",
        "      <th>2013-01-03</th>\n",
        "      <td>-0.246529</td>\n",
        "      <td> 1.722214</td>\n",
        "      <td> 0.056863</td>\n",
        "      <td>-1.174623</td>\n",
        "    </tr>\n",
        "  </tbody>\n",
        "</table>\n",
        "</div>"
       ],
       "metadata": {},
       "output_type": "pyout",
       "prompt_number": 25,
       "text": [
        "                   A         B         C         D\n",
        "2013-01-01  0.599473 -0.356687 -1.274829  0.551027\n",
        "2013-01-02  1.223142 -0.093306  0.426288  1.850803\n",
        "2013-01-03 -0.246529  1.722214  0.056863 -1.174623"
       ]
      }
     ],
     "prompt_number": 25
    },
    {
     "cell_type": "code",
     "collapsed": false,
     "input": [
      "df['20130102':'20130104']"
     ],
     "language": "python",
     "metadata": {},
     "outputs": [
      {
       "html": [
        "<div style=\"max-height:1000px;max-width:1500px;overflow:auto;\">\n",
        "<table border=\"1\" class=\"dataframe\">\n",
        "  <thead>\n",
        "    <tr style=\"text-align: right;\">\n",
        "      <th></th>\n",
        "      <th>A</th>\n",
        "      <th>B</th>\n",
        "      <th>C</th>\n",
        "      <th>D</th>\n",
        "    </tr>\n",
        "  </thead>\n",
        "  <tbody>\n",
        "    <tr>\n",
        "      <th>2013-01-02</th>\n",
        "      <td> 1.223142</td>\n",
        "      <td>-0.093306</td>\n",
        "      <td> 0.426288</td>\n",
        "      <td> 1.850803</td>\n",
        "    </tr>\n",
        "    <tr>\n",
        "      <th>2013-01-03</th>\n",
        "      <td>-0.246529</td>\n",
        "      <td> 1.722214</td>\n",
        "      <td> 0.056863</td>\n",
        "      <td>-1.174623</td>\n",
        "    </tr>\n",
        "    <tr>\n",
        "      <th>2013-01-04</th>\n",
        "      <td>-0.736053</td>\n",
        "      <td>-0.902892</td>\n",
        "      <td> 1.818953</td>\n",
        "      <td> 1.410067</td>\n",
        "    </tr>\n",
        "  </tbody>\n",
        "</table>\n",
        "</div>"
       ],
       "metadata": {},
       "output_type": "pyout",
       "prompt_number": 26,
       "text": [
        "                   A         B         C         D\n",
        "2013-01-02  1.223142 -0.093306  0.426288  1.850803\n",
        "2013-01-03 -0.246529  1.722214  0.056863 -1.174623\n",
        "2013-01-04 -0.736053 -0.902892  1.818953  1.410067"
       ]
      }
     ],
     "prompt_number": 26
    },
    {
     "cell_type": "code",
     "collapsed": false,
     "input": [
      "df.loc[dates[0]]"
     ],
     "language": "python",
     "metadata": {},
     "outputs": [
      {
       "metadata": {},
       "output_type": "pyout",
       "prompt_number": 36,
       "text": [
        "A    0.599473\n",
        "B   -0.356687\n",
        "C   -1.274829\n",
        "D    0.551027\n",
        "Name: 2013-01-01 00:00:00, dtype: float64"
       ]
      }
     ],
     "prompt_number": 36
    },
    {
     "cell_type": "code",
     "collapsed": false,
     "input": [
      "df.loc[:, 'A':'C']"
     ],
     "language": "python",
     "metadata": {},
     "outputs": [
      {
       "html": [
        "<div style=\"max-height:1000px;max-width:1500px;overflow:auto;\">\n",
        "<table border=\"1\" class=\"dataframe\">\n",
        "  <thead>\n",
        "    <tr style=\"text-align: right;\">\n",
        "      <th></th>\n",
        "      <th>A</th>\n",
        "      <th>B</th>\n",
        "      <th>C</th>\n",
        "    </tr>\n",
        "  </thead>\n",
        "  <tbody>\n",
        "    <tr>\n",
        "      <th>2013-01-01</th>\n",
        "      <td> 0.599473</td>\n",
        "      <td>-0.356687</td>\n",
        "      <td>-1.274829</td>\n",
        "    </tr>\n",
        "    <tr>\n",
        "      <th>2013-01-02</th>\n",
        "      <td> 1.223142</td>\n",
        "      <td>-0.093306</td>\n",
        "      <td> 0.426288</td>\n",
        "    </tr>\n",
        "    <tr>\n",
        "      <th>2013-01-03</th>\n",
        "      <td>-0.246529</td>\n",
        "      <td> 1.722214</td>\n",
        "      <td> 0.056863</td>\n",
        "    </tr>\n",
        "    <tr>\n",
        "      <th>2013-01-04</th>\n",
        "      <td>-0.736053</td>\n",
        "      <td>-0.902892</td>\n",
        "      <td> 1.818953</td>\n",
        "    </tr>\n",
        "    <tr>\n",
        "      <th>2013-01-05</th>\n",
        "      <td>-2.126120</td>\n",
        "      <td>-0.296749</td>\n",
        "      <td>-1.253166</td>\n",
        "    </tr>\n",
        "    <tr>\n",
        "      <th>2013-01-06</th>\n",
        "      <td> 0.800072</td>\n",
        "      <td>-0.232568</td>\n",
        "      <td> 1.490490</td>\n",
        "    </tr>\n",
        "  </tbody>\n",
        "</table>\n",
        "</div>"
       ],
       "metadata": {},
       "output_type": "pyout",
       "prompt_number": 39,
       "text": [
        "                   A         B         C\n",
        "2013-01-01  0.599473 -0.356687 -1.274829\n",
        "2013-01-02  1.223142 -0.093306  0.426288\n",
        "2013-01-03 -0.246529  1.722214  0.056863\n",
        "2013-01-04 -0.736053 -0.902892  1.818953\n",
        "2013-01-05 -2.126120 -0.296749 -1.253166\n",
        "2013-01-06  0.800072 -0.232568  1.490490"
       ]
      }
     ],
     "prompt_number": 39
    },
    {
     "cell_type": "code",
     "collapsed": false,
     "input": [
      "df.loc['20130102':'20130104', ['A', 'B']]"
     ],
     "language": "python",
     "metadata": {},
     "outputs": [
      {
       "html": [
        "<div style=\"max-height:1000px;max-width:1500px;overflow:auto;\">\n",
        "<table border=\"1\" class=\"dataframe\">\n",
        "  <thead>\n",
        "    <tr style=\"text-align: right;\">\n",
        "      <th></th>\n",
        "      <th>A</th>\n",
        "      <th>B</th>\n",
        "    </tr>\n",
        "  </thead>\n",
        "  <tbody>\n",
        "    <tr>\n",
        "      <th>2013-01-02</th>\n",
        "      <td> 1.223142</td>\n",
        "      <td>-0.093306</td>\n",
        "    </tr>\n",
        "    <tr>\n",
        "      <th>2013-01-03</th>\n",
        "      <td>-0.246529</td>\n",
        "      <td> 1.722214</td>\n",
        "    </tr>\n",
        "    <tr>\n",
        "      <th>2013-01-04</th>\n",
        "      <td>-0.736053</td>\n",
        "      <td>-0.902892</td>\n",
        "    </tr>\n",
        "  </tbody>\n",
        "</table>\n",
        "</div>"
       ],
       "metadata": {},
       "output_type": "pyout",
       "prompt_number": 40,
       "text": [
        "                   A         B\n",
        "2013-01-02  1.223142 -0.093306\n",
        "2013-01-03 -0.246529  1.722214\n",
        "2013-01-04 -0.736053 -0.902892"
       ]
      }
     ],
     "prompt_number": 40
    },
    {
     "cell_type": "code",
     "collapsed": false,
     "input": [
      "df.loc['20130102', ['A', 'B']]"
     ],
     "language": "python",
     "metadata": {},
     "outputs": [
      {
       "metadata": {},
       "output_type": "pyout",
       "prompt_number": 41,
       "text": [
        "A    1.223142\n",
        "B   -0.093306\n",
        "Name: 2013-01-02 00:00:00, dtype: float64"
       ]
      }
     ],
     "prompt_number": 41
    },
    {
     "cell_type": "code",
     "collapsed": false,
     "input": [
      "df.loc[dates[0], 'A']"
     ],
     "language": "python",
     "metadata": {},
     "outputs": [
      {
       "metadata": {},
       "output_type": "pyout",
       "prompt_number": 78,
       "text": [
        "0.59947274622722635"
       ]
      }
     ],
     "prompt_number": 78
    },
    {
     "cell_type": "code",
     "collapsed": false,
     "input": [
      "df.at[dates[0], 'A']"
     ],
     "language": "python",
     "metadata": {},
     "outputs": [
      {
       "metadata": {},
       "output_type": "pyout",
       "prompt_number": 79,
       "text": [
        "0.59947274622722635"
       ]
      }
     ],
     "prompt_number": 79
    },
    {
     "cell_type": "code",
     "collapsed": false,
     "input": [
      "df"
     ],
     "language": "python",
     "metadata": {},
     "outputs": [
      {
       "html": [
        "<div style=\"max-height:1000px;max-width:1500px;overflow:auto;\">\n",
        "<table border=\"1\" class=\"dataframe\">\n",
        "  <thead>\n",
        "    <tr style=\"text-align: right;\">\n",
        "      <th></th>\n",
        "      <th>A</th>\n",
        "      <th>B</th>\n",
        "      <th>C</th>\n",
        "      <th>D</th>\n",
        "    </tr>\n",
        "  </thead>\n",
        "  <tbody>\n",
        "    <tr>\n",
        "      <th>2013-01-01</th>\n",
        "      <td> 0.599473</td>\n",
        "      <td>-0.356687</td>\n",
        "      <td>-1.274829</td>\n",
        "      <td> 0.551027</td>\n",
        "    </tr>\n",
        "    <tr>\n",
        "      <th>2013-01-02</th>\n",
        "      <td> 1.223142</td>\n",
        "      <td>-0.093306</td>\n",
        "      <td> 0.426288</td>\n",
        "      <td> 1.850803</td>\n",
        "    </tr>\n",
        "    <tr>\n",
        "      <th>2013-01-03</th>\n",
        "      <td>-0.246529</td>\n",
        "      <td> 1.722214</td>\n",
        "      <td> 0.056863</td>\n",
        "      <td>-1.174623</td>\n",
        "    </tr>\n",
        "    <tr>\n",
        "      <th>2013-01-04</th>\n",
        "      <td>-0.736053</td>\n",
        "      <td>-0.902892</td>\n",
        "      <td> 1.818953</td>\n",
        "      <td> 1.410067</td>\n",
        "    </tr>\n",
        "    <tr>\n",
        "      <th>2013-01-05</th>\n",
        "      <td>-2.126120</td>\n",
        "      <td>-0.296749</td>\n",
        "      <td>-1.253166</td>\n",
        "      <td>-0.021765</td>\n",
        "    </tr>\n",
        "    <tr>\n",
        "      <th>2013-01-06</th>\n",
        "      <td> 0.800072</td>\n",
        "      <td>-0.232568</td>\n",
        "      <td> 1.490490</td>\n",
        "      <td> 0.035192</td>\n",
        "    </tr>\n",
        "  </tbody>\n",
        "</table>\n",
        "</div>"
       ],
       "metadata": {},
       "output_type": "pyout",
       "prompt_number": 57,
       "text": [
        "                   A         B         C         D\n",
        "2013-01-01  0.599473 -0.356687 -1.274829  0.551027\n",
        "2013-01-02  1.223142 -0.093306  0.426288  1.850803\n",
        "2013-01-03 -0.246529  1.722214  0.056863 -1.174623\n",
        "2013-01-04 -0.736053 -0.902892  1.818953  1.410067\n",
        "2013-01-05 -2.126120 -0.296749 -1.253166 -0.021765\n",
        "2013-01-06  0.800072 -0.232568  1.490490  0.035192"
       ]
      }
     ],
     "prompt_number": 57
    },
    {
     "cell_type": "code",
     "collapsed": false,
     "input": [
      "df.iloc[3]"
     ],
     "language": "python",
     "metadata": {},
     "outputs": [
      {
       "metadata": {},
       "output_type": "pyout",
       "prompt_number": 62,
       "text": [
        "A   -0.736053\n",
        "B   -0.902892\n",
        "C    1.818953\n",
        "D    1.410067\n",
        "Name: 2013-01-04 00:00:00, dtype: float64"
       ]
      }
     ],
     "prompt_number": 62
    },
    {
     "cell_type": "code",
     "collapsed": false,
     "input": [
      "df.iloc[3:5, 0:2]"
     ],
     "language": "python",
     "metadata": {},
     "outputs": [
      {
       "html": [
        "<div style=\"max-height:1000px;max-width:1500px;overflow:auto;\">\n",
        "<table border=\"1\" class=\"dataframe\">\n",
        "  <thead>\n",
        "    <tr style=\"text-align: right;\">\n",
        "      <th></th>\n",
        "      <th>A</th>\n",
        "      <th>B</th>\n",
        "    </tr>\n",
        "  </thead>\n",
        "  <tbody>\n",
        "    <tr>\n",
        "      <th>2013-01-04</th>\n",
        "      <td>-0.736053</td>\n",
        "      <td>-0.902892</td>\n",
        "    </tr>\n",
        "    <tr>\n",
        "      <th>2013-01-05</th>\n",
        "      <td>-2.126120</td>\n",
        "      <td>-0.296749</td>\n",
        "    </tr>\n",
        "  </tbody>\n",
        "</table>\n",
        "</div>"
       ],
       "metadata": {},
       "output_type": "pyout",
       "prompt_number": 63,
       "text": [
        "                   A         B\n",
        "2013-01-04 -0.736053 -0.902892\n",
        "2013-01-05 -2.126120 -0.296749"
       ]
      }
     ],
     "prompt_number": 63
    },
    {
     "cell_type": "code",
     "collapsed": false,
     "input": [
      "df.iloc[[1, 2, 4], [0, 2]]"
     ],
     "language": "python",
     "metadata": {},
     "outputs": [
      {
       "html": [
        "<div style=\"max-height:1000px;max-width:1500px;overflow:auto;\">\n",
        "<table border=\"1\" class=\"dataframe\">\n",
        "  <thead>\n",
        "    <tr style=\"text-align: right;\">\n",
        "      <th></th>\n",
        "      <th>A</th>\n",
        "      <th>C</th>\n",
        "    </tr>\n",
        "  </thead>\n",
        "  <tbody>\n",
        "    <tr>\n",
        "      <th>2013-01-02</th>\n",
        "      <td> 1.223142</td>\n",
        "      <td> 0.426288</td>\n",
        "    </tr>\n",
        "    <tr>\n",
        "      <th>2013-01-03</th>\n",
        "      <td>-0.246529</td>\n",
        "      <td> 0.056863</td>\n",
        "    </tr>\n",
        "    <tr>\n",
        "      <th>2013-01-05</th>\n",
        "      <td>-2.126120</td>\n",
        "      <td>-1.253166</td>\n",
        "    </tr>\n",
        "  </tbody>\n",
        "</table>\n",
        "</div>"
       ],
       "metadata": {},
       "output_type": "pyout",
       "prompt_number": 71,
       "text": [
        "                   A         C\n",
        "2013-01-02  1.223142  0.426288\n",
        "2013-01-03 -0.246529  0.056863\n",
        "2013-01-05 -2.126120 -1.253166"
       ]
      }
     ],
     "prompt_number": 71
    },
    {
     "cell_type": "code",
     "collapsed": false,
     "input": [
      "df.iloc[1:3, :]"
     ],
     "language": "python",
     "metadata": {},
     "outputs": [
      {
       "html": [
        "<div style=\"max-height:1000px;max-width:1500px;overflow:auto;\">\n",
        "<table border=\"1\" class=\"dataframe\">\n",
        "  <thead>\n",
        "    <tr style=\"text-align: right;\">\n",
        "      <th></th>\n",
        "      <th>A</th>\n",
        "      <th>B</th>\n",
        "      <th>C</th>\n",
        "      <th>D</th>\n",
        "    </tr>\n",
        "  </thead>\n",
        "  <tbody>\n",
        "    <tr>\n",
        "      <th>2013-01-02</th>\n",
        "      <td> 1.223142</td>\n",
        "      <td>-0.093306</td>\n",
        "      <td> 0.426288</td>\n",
        "      <td> 1.850803</td>\n",
        "    </tr>\n",
        "    <tr>\n",
        "      <th>2013-01-03</th>\n",
        "      <td>-0.246529</td>\n",
        "      <td> 1.722214</td>\n",
        "      <td> 0.056863</td>\n",
        "      <td>-1.174623</td>\n",
        "    </tr>\n",
        "  </tbody>\n",
        "</table>\n",
        "</div>"
       ],
       "metadata": {},
       "output_type": "pyout",
       "prompt_number": 72,
       "text": [
        "                   A         B         C         D\n",
        "2013-01-02  1.223142 -0.093306  0.426288  1.850803\n",
        "2013-01-03 -0.246529  1.722214  0.056863 -1.174623"
       ]
      }
     ],
     "prompt_number": 72
    },
    {
     "cell_type": "code",
     "collapsed": false,
     "input": [
      "df.iloc[:, 1:3]"
     ],
     "language": "python",
     "metadata": {},
     "outputs": [
      {
       "html": [
        "<div style=\"max-height:1000px;max-width:1500px;overflow:auto;\">\n",
        "<table border=\"1\" class=\"dataframe\">\n",
        "  <thead>\n",
        "    <tr style=\"text-align: right;\">\n",
        "      <th></th>\n",
        "      <th>B</th>\n",
        "      <th>C</th>\n",
        "    </tr>\n",
        "  </thead>\n",
        "  <tbody>\n",
        "    <tr>\n",
        "      <th>2013-01-01</th>\n",
        "      <td>-0.356687</td>\n",
        "      <td>-1.274829</td>\n",
        "    </tr>\n",
        "    <tr>\n",
        "      <th>2013-01-02</th>\n",
        "      <td>-0.093306</td>\n",
        "      <td> 0.426288</td>\n",
        "    </tr>\n",
        "    <tr>\n",
        "      <th>2013-01-03</th>\n",
        "      <td> 1.722214</td>\n",
        "      <td> 0.056863</td>\n",
        "    </tr>\n",
        "    <tr>\n",
        "      <th>2013-01-04</th>\n",
        "      <td>-0.902892</td>\n",
        "      <td> 1.818953</td>\n",
        "    </tr>\n",
        "    <tr>\n",
        "      <th>2013-01-05</th>\n",
        "      <td>-0.296749</td>\n",
        "      <td>-1.253166</td>\n",
        "    </tr>\n",
        "    <tr>\n",
        "      <th>2013-01-06</th>\n",
        "      <td>-0.232568</td>\n",
        "      <td> 1.490490</td>\n",
        "    </tr>\n",
        "  </tbody>\n",
        "</table>\n",
        "</div>"
       ],
       "metadata": {},
       "output_type": "pyout",
       "prompt_number": 73,
       "text": [
        "                   B         C\n",
        "2013-01-01 -0.356687 -1.274829\n",
        "2013-01-02 -0.093306  0.426288\n",
        "2013-01-03  1.722214  0.056863\n",
        "2013-01-04 -0.902892  1.818953\n",
        "2013-01-05 -0.296749 -1.253166\n",
        "2013-01-06 -0.232568  1.490490"
       ]
      }
     ],
     "prompt_number": 73
    },
    {
     "cell_type": "code",
     "collapsed": false,
     "input": [
      "df.iloc[1,1]"
     ],
     "language": "python",
     "metadata": {},
     "outputs": [
      {
       "metadata": {},
       "output_type": "pyout",
       "prompt_number": 74,
       "text": [
        "-0.093306429283721348"
       ]
      }
     ],
     "prompt_number": 74
    },
    {
     "cell_type": "code",
     "collapsed": false,
     "input": [
      "df.iat[1,1]"
     ],
     "language": "python",
     "metadata": {},
     "outputs": [
      {
       "metadata": {},
       "output_type": "pyout",
       "prompt_number": 75,
       "text": [
        "-0.093306429283721348"
       ]
      }
     ],
     "prompt_number": 75
    },
    {
     "cell_type": "heading",
     "level": 2,
     "metadata": {},
     "source": [
      "Boolean Indexing"
     ]
    },
    {
     "cell_type": "code",
     "collapsed": false,
     "input": [
      "df[df.A > 0]"
     ],
     "language": "python",
     "metadata": {},
     "outputs": [
      {
       "html": [
        "<div style=\"max-height:1000px;max-width:1500px;overflow:auto;\">\n",
        "<table border=\"1\" class=\"dataframe\">\n",
        "  <thead>\n",
        "    <tr style=\"text-align: right;\">\n",
        "      <th></th>\n",
        "      <th>A</th>\n",
        "      <th>B</th>\n",
        "      <th>C</th>\n",
        "      <th>D</th>\n",
        "    </tr>\n",
        "  </thead>\n",
        "  <tbody>\n",
        "    <tr>\n",
        "      <th>2013-01-01</th>\n",
        "      <td> 0.599473</td>\n",
        "      <td>-0.356687</td>\n",
        "      <td>-1.274829</td>\n",
        "      <td> 0.551027</td>\n",
        "    </tr>\n",
        "    <tr>\n",
        "      <th>2013-01-02</th>\n",
        "      <td> 1.223142</td>\n",
        "      <td>-0.093306</td>\n",
        "      <td> 0.426288</td>\n",
        "      <td> 1.850803</td>\n",
        "    </tr>\n",
        "    <tr>\n",
        "      <th>2013-01-06</th>\n",
        "      <td> 0.800072</td>\n",
        "      <td>-0.232568</td>\n",
        "      <td> 1.490490</td>\n",
        "      <td> 0.035192</td>\n",
        "    </tr>\n",
        "  </tbody>\n",
        "</table>\n",
        "</div>"
       ],
       "metadata": {},
       "output_type": "pyout",
       "prompt_number": 80,
       "text": [
        "                   A         B         C         D\n",
        "2013-01-01  0.599473 -0.356687 -1.274829  0.551027\n",
        "2013-01-02  1.223142 -0.093306  0.426288  1.850803\n",
        "2013-01-06  0.800072 -0.232568  1.490490  0.035192"
       ]
      }
     ],
     "prompt_number": 80
    },
    {
     "cell_type": "code",
     "collapsed": false,
     "input": [
      "df[df > 0]"
     ],
     "language": "python",
     "metadata": {},
     "outputs": [
      {
       "html": [
        "<div style=\"max-height:1000px;max-width:1500px;overflow:auto;\">\n",
        "<table border=\"1\" class=\"dataframe\">\n",
        "  <thead>\n",
        "    <tr style=\"text-align: right;\">\n",
        "      <th></th>\n",
        "      <th>A</th>\n",
        "      <th>B</th>\n",
        "      <th>C</th>\n",
        "      <th>D</th>\n",
        "    </tr>\n",
        "  </thead>\n",
        "  <tbody>\n",
        "    <tr>\n",
        "      <th>2013-01-01</th>\n",
        "      <td> 0.599473</td>\n",
        "      <td>      NaN</td>\n",
        "      <td>      NaN</td>\n",
        "      <td> 0.551027</td>\n",
        "    </tr>\n",
        "    <tr>\n",
        "      <th>2013-01-02</th>\n",
        "      <td> 1.223142</td>\n",
        "      <td>      NaN</td>\n",
        "      <td> 0.426288</td>\n",
        "      <td> 1.850803</td>\n",
        "    </tr>\n",
        "    <tr>\n",
        "      <th>2013-01-03</th>\n",
        "      <td>      NaN</td>\n",
        "      <td> 1.722214</td>\n",
        "      <td> 0.056863</td>\n",
        "      <td>      NaN</td>\n",
        "    </tr>\n",
        "    <tr>\n",
        "      <th>2013-01-04</th>\n",
        "      <td>      NaN</td>\n",
        "      <td>      NaN</td>\n",
        "      <td> 1.818953</td>\n",
        "      <td> 1.410067</td>\n",
        "    </tr>\n",
        "    <tr>\n",
        "      <th>2013-01-05</th>\n",
        "      <td>      NaN</td>\n",
        "      <td>      NaN</td>\n",
        "      <td>      NaN</td>\n",
        "      <td>      NaN</td>\n",
        "    </tr>\n",
        "    <tr>\n",
        "      <th>2013-01-06</th>\n",
        "      <td> 0.800072</td>\n",
        "      <td>      NaN</td>\n",
        "      <td> 1.490490</td>\n",
        "      <td> 0.035192</td>\n",
        "    </tr>\n",
        "  </tbody>\n",
        "</table>\n",
        "</div>"
       ],
       "metadata": {},
       "output_type": "pyout",
       "prompt_number": 81,
       "text": [
        "                   A         B         C         D\n",
        "2013-01-01  0.599473       NaN       NaN  0.551027\n",
        "2013-01-02  1.223142       NaN  0.426288  1.850803\n",
        "2013-01-03       NaN  1.722214  0.056863       NaN\n",
        "2013-01-04       NaN       NaN  1.818953  1.410067\n",
        "2013-01-05       NaN       NaN       NaN       NaN\n",
        "2013-01-06  0.800072       NaN  1.490490  0.035192"
       ]
      }
     ],
     "prompt_number": 81
    },
    {
     "cell_type": "code",
     "collapsed": false,
     "input": [
      "df[df < 0]"
     ],
     "language": "python",
     "metadata": {},
     "outputs": [
      {
       "html": [
        "<div style=\"max-height:1000px;max-width:1500px;overflow:auto;\">\n",
        "<table border=\"1\" class=\"dataframe\">\n",
        "  <thead>\n",
        "    <tr style=\"text-align: right;\">\n",
        "      <th></th>\n",
        "      <th>A</th>\n",
        "      <th>B</th>\n",
        "      <th>C</th>\n",
        "      <th>D</th>\n",
        "    </tr>\n",
        "  </thead>\n",
        "  <tbody>\n",
        "    <tr>\n",
        "      <th>2013-01-01</th>\n",
        "      <td>      NaN</td>\n",
        "      <td>-0.356687</td>\n",
        "      <td>-1.274829</td>\n",
        "      <td>      NaN</td>\n",
        "    </tr>\n",
        "    <tr>\n",
        "      <th>2013-01-02</th>\n",
        "      <td>      NaN</td>\n",
        "      <td>-0.093306</td>\n",
        "      <td>      NaN</td>\n",
        "      <td>      NaN</td>\n",
        "    </tr>\n",
        "    <tr>\n",
        "      <th>2013-01-03</th>\n",
        "      <td>-0.246529</td>\n",
        "      <td>      NaN</td>\n",
        "      <td>      NaN</td>\n",
        "      <td>-1.174623</td>\n",
        "    </tr>\n",
        "    <tr>\n",
        "      <th>2013-01-04</th>\n",
        "      <td>-0.736053</td>\n",
        "      <td>-0.902892</td>\n",
        "      <td>      NaN</td>\n",
        "      <td>      NaN</td>\n",
        "    </tr>\n",
        "    <tr>\n",
        "      <th>2013-01-05</th>\n",
        "      <td>-2.126120</td>\n",
        "      <td>-0.296749</td>\n",
        "      <td>-1.253166</td>\n",
        "      <td>-0.021765</td>\n",
        "    </tr>\n",
        "    <tr>\n",
        "      <th>2013-01-06</th>\n",
        "      <td>      NaN</td>\n",
        "      <td>-0.232568</td>\n",
        "      <td>      NaN</td>\n",
        "      <td>      NaN</td>\n",
        "    </tr>\n",
        "  </tbody>\n",
        "</table>\n",
        "</div>"
       ],
       "metadata": {},
       "output_type": "pyout",
       "prompt_number": 82,
       "text": [
        "                   A         B         C         D\n",
        "2013-01-01       NaN -0.356687 -1.274829       NaN\n",
        "2013-01-02       NaN -0.093306       NaN       NaN\n",
        "2013-01-03 -0.246529       NaN       NaN -1.174623\n",
        "2013-01-04 -0.736053 -0.902892       NaN       NaN\n",
        "2013-01-05 -2.126120 -0.296749 -1.253166 -0.021765\n",
        "2013-01-06       NaN -0.232568       NaN       NaN"
       ]
      }
     ],
     "prompt_number": 82
    },
    {
     "cell_type": "code",
     "collapsed": false,
     "input": [
      "df3 = df.copy()\n",
      "df3['E'] = ['one', 'one', 'two', 'three', 'four', 'three']\n",
      "df3"
     ],
     "language": "python",
     "metadata": {},
     "outputs": [
      {
       "html": [
        "<div style=\"max-height:1000px;max-width:1500px;overflow:auto;\">\n",
        "<table border=\"1\" class=\"dataframe\">\n",
        "  <thead>\n",
        "    <tr style=\"text-align: right;\">\n",
        "      <th></th>\n",
        "      <th>A</th>\n",
        "      <th>B</th>\n",
        "      <th>C</th>\n",
        "      <th>D</th>\n",
        "      <th>E</th>\n",
        "    </tr>\n",
        "  </thead>\n",
        "  <tbody>\n",
        "    <tr>\n",
        "      <th>2013-01-01</th>\n",
        "      <td> 0.599473</td>\n",
        "      <td>-0.356687</td>\n",
        "      <td>-1.274829</td>\n",
        "      <td> 0.551027</td>\n",
        "      <td>   one</td>\n",
        "    </tr>\n",
        "    <tr>\n",
        "      <th>2013-01-02</th>\n",
        "      <td> 1.223142</td>\n",
        "      <td>-0.093306</td>\n",
        "      <td> 0.426288</td>\n",
        "      <td> 1.850803</td>\n",
        "      <td>   one</td>\n",
        "    </tr>\n",
        "    <tr>\n",
        "      <th>2013-01-03</th>\n",
        "      <td>-0.246529</td>\n",
        "      <td> 1.722214</td>\n",
        "      <td> 0.056863</td>\n",
        "      <td>-1.174623</td>\n",
        "      <td>   two</td>\n",
        "    </tr>\n",
        "    <tr>\n",
        "      <th>2013-01-04</th>\n",
        "      <td>-0.736053</td>\n",
        "      <td>-0.902892</td>\n",
        "      <td> 1.818953</td>\n",
        "      <td> 1.410067</td>\n",
        "      <td> three</td>\n",
        "    </tr>\n",
        "    <tr>\n",
        "      <th>2013-01-05</th>\n",
        "      <td>-2.126120</td>\n",
        "      <td>-0.296749</td>\n",
        "      <td>-1.253166</td>\n",
        "      <td>-0.021765</td>\n",
        "      <td>  four</td>\n",
        "    </tr>\n",
        "    <tr>\n",
        "      <th>2013-01-06</th>\n",
        "      <td> 0.800072</td>\n",
        "      <td>-0.232568</td>\n",
        "      <td> 1.490490</td>\n",
        "      <td> 0.035192</td>\n",
        "      <td> three</td>\n",
        "    </tr>\n",
        "  </tbody>\n",
        "</table>\n",
        "</div>"
       ],
       "metadata": {},
       "output_type": "pyout",
       "prompt_number": 84,
       "text": [
        "                   A         B         C         D      E\n",
        "2013-01-01  0.599473 -0.356687 -1.274829  0.551027    one\n",
        "2013-01-02  1.223142 -0.093306  0.426288  1.850803    one\n",
        "2013-01-03 -0.246529  1.722214  0.056863 -1.174623    two\n",
        "2013-01-04 -0.736053 -0.902892  1.818953  1.410067  three\n",
        "2013-01-05 -2.126120 -0.296749 -1.253166 -0.021765   four\n",
        "2013-01-06  0.800072 -0.232568  1.490490  0.035192  three"
       ]
      }
     ],
     "prompt_number": 84
    },
    {
     "cell_type": "code",
     "collapsed": false,
     "input": [
      "df3['E'].isin(['two', 'four'])"
     ],
     "language": "python",
     "metadata": {},
     "outputs": [
      {
       "metadata": {},
       "output_type": "pyout",
       "prompt_number": 86,
       "text": [
        "2013-01-01    False\n",
        "2013-01-02    False\n",
        "2013-01-03     True\n",
        "2013-01-04    False\n",
        "2013-01-05     True\n",
        "2013-01-06    False\n",
        "Freq: D, Name: E, dtype: bool"
       ]
      }
     ],
     "prompt_number": 86
    },
    {
     "cell_type": "code",
     "collapsed": false,
     "input": [
      "df3['E'].isin(['two', 'four']).values"
     ],
     "language": "python",
     "metadata": {},
     "outputs": [
      {
       "metadata": {},
       "output_type": "pyout",
       "prompt_number": 87,
       "text": [
        "array([False, False,  True, False,  True, False], dtype=bool)"
       ]
      }
     ],
     "prompt_number": 87
    },
    {
     "cell_type": "code",
     "collapsed": false,
     "input": [
      "df3[df3['E'].isin(['two', 'four'])]"
     ],
     "language": "python",
     "metadata": {},
     "outputs": [
      {
       "html": [
        "<div style=\"max-height:1000px;max-width:1500px;overflow:auto;\">\n",
        "<table border=\"1\" class=\"dataframe\">\n",
        "  <thead>\n",
        "    <tr style=\"text-align: right;\">\n",
        "      <th></th>\n",
        "      <th>A</th>\n",
        "      <th>B</th>\n",
        "      <th>C</th>\n",
        "      <th>D</th>\n",
        "      <th>E</th>\n",
        "    </tr>\n",
        "  </thead>\n",
        "  <tbody>\n",
        "    <tr>\n",
        "      <th>2013-01-03</th>\n",
        "      <td>-0.246529</td>\n",
        "      <td> 1.722214</td>\n",
        "      <td> 0.056863</td>\n",
        "      <td>-1.174623</td>\n",
        "      <td>  two</td>\n",
        "    </tr>\n",
        "    <tr>\n",
        "      <th>2013-01-05</th>\n",
        "      <td>-2.126120</td>\n",
        "      <td>-0.296749</td>\n",
        "      <td>-1.253166</td>\n",
        "      <td>-0.021765</td>\n",
        "      <td> four</td>\n",
        "    </tr>\n",
        "  </tbody>\n",
        "</table>\n",
        "</div>"
       ],
       "metadata": {},
       "output_type": "pyout",
       "prompt_number": 85,
       "text": [
        "                   A         B         C         D     E\n",
        "2013-01-03 -0.246529  1.722214  0.056863 -1.174623   two\n",
        "2013-01-05 -2.126120 -0.296749 -1.253166 -0.021765  four"
       ]
      }
     ],
     "prompt_number": 85
    },
    {
     "cell_type": "code",
     "collapsed": false,
     "input": [],
     "language": "python",
     "metadata": {},
     "outputs": []
    }
   ],
   "metadata": {}
  }
 ]
}